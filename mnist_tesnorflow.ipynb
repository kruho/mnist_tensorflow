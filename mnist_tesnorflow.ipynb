{
 "cells": [
  {
   "cell_type": "markdown",
   "metadata": {},
   "source": [
    "# MNIST読み込み"
   ]
  },
  {
   "cell_type": "code",
   "execution_count": 1,
   "metadata": {
    "collapsed": true
   },
   "outputs": [],
   "source": [
    "nb_train, nb_val = 50000, 10000"
   ]
  },
  {
   "cell_type": "code",
   "execution_count": 2,
   "metadata": {
    "collapsed": true
   },
   "outputs": [],
   "source": [
    "import numpy as np\n",
    "from sklearn.utils import shuffle\n",
    "\n",
    "f = np.load('../AutoEncoder/mnist.npz')\n",
    "X = f['x_train'] / 255.\n",
    "Y = f['y_train']\n",
    "x_train = X[:nb_train]\n",
    "y_train = Y[:nb_train]\n",
    "x_val = X[nb_train:nb_train+nb_val]\n",
    "y_val = Y[nb_train:nb_train+nb_val]\n",
    "x_test = f['x_test'] / 255.\n",
    "y_test = f['y_test']\n",
    "\n",
    "def batch_flatten(X):\n",
    "    return np.reshape(X, (len(X), np.prod(X.shape[1:])))\n",
    "    \n",
    "x_train = batch_flatten(x_train)\n",
    "x_val   = batch_flatten(x_val)\n",
    "x_test  = batch_flatten(x_test)\n",
    "\n",
    "y_train = np.eye(10)[y_train]\n",
    "y_test  = np.eye(10)[y_test]\n",
    "y_val   = np.eye(10)[y_val]"
   ]
  },
  {
   "cell_type": "markdown",
   "metadata": {},
   "source": [
    "# ミニバッチ作成"
   ]
  },
  {
   "cell_type": "code",
   "execution_count": 3,
   "metadata": {
    "collapsed": true
   },
   "outputs": [],
   "source": [
    "def next_batch(x, y, nb_samples):\n",
    "    a = 0\n",
    "    while True:\n",
    "        yield x[a:a+nb_samples], y[a:a+nb_samples]\n",
    "        a += nb_samples\n",
    "        if a+nb_samples>len(x):\n",
    "            x,y = shuffle(x,y)\n",
    "            a = 0"
   ]
  },
  {
   "cell_type": "code",
   "execution_count": 4,
   "metadata": {},
   "outputs": [
    {
     "data": {
      "text/plain": [
       "(-0.5, 27.5, 27.5, -0.5)"
      ]
     },
     "execution_count": 4,
     "metadata": {},
     "output_type": "execute_result"
    },
    {
     "data": {
      "image/png": "[encoded data removed]",
      "text/plain": [
       "<matplotlib.figure.Figure at 0x11638df60>"
      ]
     },
     "metadata": {},
     "output_type": "display_data"
    }
   ],
   "source": [
    "%matplotlib inline\n",
    "import matplotlib.pyplot as plt\n",
    "\n",
    "batch_gen = next_batch(x_train, y_train, 100)\n",
    "x_batch, y_batch = batch_gen.__next__()\n",
    "\n",
    "plt.imshow(np.reshape(x_batch[0],(28,28)), 'gray')\n",
    "plt.title(str(y_batch[0].argmax()))\n",
    "plt.axis('off')"
   ]
  },
  {
   "cell_type": "markdown",
   "metadata": {},
   "source": [
    "# モデル構築"
   ]
  },
  {
   "cell_type": "code",
   "execution_count": 5,
   "metadata": {
    "collapsed": true
   },
   "outputs": [],
   "source": [
    "import tensorflow as tf\n",
    "\n",
    "x_input = tf.placeholder(tf.float32, [None, 784], name='x_input')\n",
    "y_true = tf.placeholder(tf.float32, [None, 10], name='y_true')\n",
    "\n",
    "with tf.name_scope('weights'):\n",
    "    W1 = tf.Variable(tf.random_normal([784, 500], stddev=np.sqrt(2 / (784 + 500))), name='W1')\n",
    "    W2 = tf.Variable(tf.random_normal([500, 10], stddev=np.sqrt(2 / (500 + 10))), name='W2')\n",
    "    b1 = tf.Variable(tf.random_normal([500]), name='b1')\n",
    "    b2 = tf.Variable(tf.random_normal([10]), name='b2')\n",
    "    h = tf.nn.relu(tf.nn.bias_add(tf.matmul(x_input, W1), b1), name='h')\n",
    "    y_pred = tf.nn.softmax(tf.nn.bias_add(tf.matmul(h, W2), b2), name='y_pred')"
   ]
  },
  {
   "cell_type": "markdown",
   "metadata": {},
   "source": [
    "# 損失関数（交差エントロピー）とオプティマイザの定義"
   ]
  },
  {
   "cell_type": "code",
   "execution_count": 6,
   "metadata": {
    "collapsed": true
   },
   "outputs": [],
   "source": [
    "cross_entropy = tf.reduce_mean(-tf.reduce_sum(y_true * tf.log(y_pred), reduction_indices=[1]))\n",
    "train_step = tf.train.AdamOptimizer(learning_rate=0.001).minimize(cross_entropy)"
   ]
  },
  {
   "cell_type": "markdown",
   "metadata": {},
   "source": [
    "# metricの定義"
   ]
  },
  {
   "cell_type": "code",
   "execution_count": 7,
   "metadata": {
    "collapsed": true
   },
   "outputs": [],
   "source": [
    "correct_prediction = tf.equal(tf.argmax(y_true, axis=1), tf.argmax(y_pred, axis=1))\n",
    "accuracy = tf.reduce_mean(tf.cast(correct_prediction, tf.float32))"
   ]
  },
  {
   "cell_type": "markdown",
   "metadata": {},
   "source": [
    "# TensorBoardの準備"
   ]
  },
  {
   "cell_type": "code",
   "execution_count": 8,
   "metadata": {
    "collapsed": true
   },
   "outputs": [],
   "source": [
    "from datetime import datetime\n",
    "\n",
    "tf.summary.histogram(\"logs/weights1\",W1)\n",
    "tf.summary.histogram(\"logs/weights2\",W2)\n",
    "tf.summary.histogram(\"logs/bias1\",b1)\n",
    "tf.summary.histogram(\"logs/bias2\",b2)\n",
    "tf.summary.scalar(\"logs/xentropy\", cross_entropy)\n",
    "tf.summary.scalar(\"logs/accuracy\", accuracy)\n",
    "\n",
    "merged_summary_op = tf.summary.merge_all()\n",
    "\n",
    "now = datetime.now()\n",
    "logdir = \"tf_logs/.../\" + now.strftime(\"%Y%m%d-%H%M%S\") + \"/\"\n",
    "summary_writer = tf.summary.FileWriter(logdir)"
   ]
  },
  {
   "cell_type": "markdown",
   "metadata": {},
   "source": [
    "# 訓練"
   ]
  },
  {
   "cell_type": "code",
   "execution_count": 9,
   "metadata": {},
   "outputs": [
    {
     "name": "stderr",
     "output_type": "stream",
     "text": [
      "100%|██████████| 1000/1000 [00:22<00:00, 44.50it/s]\n"
     ]
    }
   ],
   "source": [
    "from tqdm import tqdm\n",
    "\n",
    "# セッションの開始\n",
    "sess = tf.InteractiveSession()\n",
    "\n",
    "# 変数の初期化\n",
    "sess.run(tf.global_variables_initializer())\n",
    "\n",
    "# 訓練ループ\n",
    "for i in tqdm(range(1000)):\n",
    "    batch_xs, batch_ys = batch_gen.__next__()\n",
    "    _, summary = sess.run(\n",
    "        [train_step, merged_summary_op], \n",
    "        feed_dict={x_input: batch_xs.astype(np.float32), y_true: batch_ys.astype(np.float32)}\n",
    "    )\n",
    "    summary_writer.add_summary(summary, i)"
   ]
  },
  {
   "cell_type": "markdown",
   "metadata": {},
   "source": [
    "# テスト"
   ]
  },
  {
   "cell_type": "code",
   "execution_count": 10,
   "metadata": {},
   "outputs": [
    {
     "name": "stdout",
     "output_type": "stream",
     "text": [
      "0.9632\n",
      "0.9632\n"
     ]
    }
   ],
   "source": [
    "print(accuracy.eval({x_input: x_test, y_true: y_test}))\n",
    "print(sess.run(accuracy, feed_dict={x_input: x_test, y_true: y_test}))"
   ]
  },
  {
   "cell_type": "code",
   "execution_count": 11,
   "metadata": {
    "collapsed": true
   },
   "outputs": [],
   "source": [
    "sess.close()"
   ]
  }
 ],
 "metadata": {
  "kernelspec": {
   "display_name": "Python 3",
   "language": "python",
   "name": "python3"
  },
  "language_info": {
   "codemirror_mode": {
    "name": "ipython",
    "version": 3
   },
   "file_extension": ".py",
   "mimetype": "text/x-python",
   "name": "python",
   "nbconvert_exporter": "python",
   "pygments_lexer": "ipython3",
   "version": "3.6.2"
  }
 },
 "nbformat": 4,
 "nbformat_minor": 2
}
